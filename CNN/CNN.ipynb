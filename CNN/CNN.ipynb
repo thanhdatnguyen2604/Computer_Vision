{
  "cells": [
    {
      "cell_type": "code",
      "execution_count": 1,
      "metadata": {
        "id": "CPDvKPiZ3sYh",
        "pycharm": {
          "name": "#%%\n"
        }
      },
      "outputs": [],
      "source": [
        "import warnings\n",
        "warnings.filterwarnings('ignore')"
      ]
    },
    {
      "cell_type": "code",
      "execution_count": 2,
      "metadata": {
        "id": "-Ng-kYlE3sYm",
        "pycharm": {
          "name": "#%%\n"
        }
      },
      "outputs": [],
      "source": [
        "# Importing the Keras libraries and other packages\n",
        "import tensorflow as tf\n",
        "from tensorflow import keras\n",
        "from tensorflow.keras import Sequential\n",
        "from tensorflow.keras.layers import Conv2D\n",
        "from tensorflow.keras.layers import MaxPooling2D\n",
        "from tensorflow.keras.layers import Flatten, Activation\n",
        "from tensorflow.keras.layers import Dense, BatchNormalization, Dropout\n",
        "from tensorflow.keras.preprocessing.image import ImageDataGenerator\n",
        "from tensorflow.keras.callbacks import EarlyStopping, ModelCheckpoint\n",
        "from datetime import datetime\n",
        "import pandas as pd\n",
        "from tensorflow.keras.utils import plot_model\n",
        "from IPython.display import Image\n",
        "from tensorflow.keras.models import load_model"
      ]
    },
    {
      "cell_type": "code",
      "execution_count": 3,
      "metadata": {},
      "outputs": [
        {
          "data": {
            "text/plain": [
              "[PhysicalDevice(name='/physical_device:GPU:0', device_type='GPU')]"
            ]
          },
          "execution_count": 3,
          "metadata": {},
          "output_type": "execute_result"
        }
      ],
      "source": [
        "# Check GPU available\n",
        "tf.config.list_physical_devices('GPU')"
      ]
    },
    {
      "cell_type": "code",
      "execution_count": 4,
      "metadata": {
        "id": "3ba7hZRD3sYo",
        "pycharm": {
          "name": "#%%\n"
        }
      },
      "outputs": [],
      "source": [
        "# Create Model CNN\n",
        "def get_model():\n",
        "    classifier = Sequential()\n",
        "\n",
        "    classifier.add(Conv2D(filters=32, kernel_size=3, input_shape= (128,128,3)))\n",
        "    classifier.add(MaxPooling2D(pool_size= (2, 2)))\n",
        "    classifier.add(BatchNormalization())\n",
        "    classifier.add(Activation('relu'))\n",
        "  \n",
        "    classifier.add(Conv2D(filters=64, kernel_size=3))\n",
        "    classifier.add(MaxPooling2D(pool_size= (2, 2)))\n",
        "    classifier.add(BatchNormalization())\n",
        "    classifier.add(Activation('relu'))\n",
        "    \n",
        "    classifier.add(Conv2D(filters=128, kernel_size=3))\n",
        "    classifier.add(MaxPooling2D(pool_size= (2, 2)))    \n",
        "    classifier.add(BatchNormalization())\n",
        "    classifier.add(Activation('relu'))\n",
        "\n",
        "    classifier.add(Conv2D(filters=64, kernel_size=3))\n",
        "    classifier.add(MaxPooling2D(pool_size= (2, 2)))\n",
        "    classifier.add(BatchNormalization())\n",
        "    classifier.add(Activation('relu'))\n",
        "\n",
        "    classifier.add(Flatten())\n",
        "\n",
        "    classifier.add(Dense(units= 128, activation= 'relu'))\n",
        "    classifier.add(Dropout(0.2))\n",
        "    classifier.add(Dense(units= 64, activation= 'relu'))\n",
        "    classifier.add(Dropout(0.2))\n",
        "    classifier.add(Dense(units= 32, activation= 'relu'))\n",
        "    classifier.add(Dropout(0.2))\n",
        "    classifier.add(Dense(units= 16, activation= 'relu'))\n",
        "    classifier.add(Dropout(0.2))\n",
        "    classifier.add(Dense(units= 1, activation='sigmoid'))\n",
        "\n",
        "    classifier.compile(\n",
        "        optimizer= 'adam',\n",
        "        loss= 'binary_crossentropy',\n",
        "        metrics= ['accuracy'])\n",
        "\n",
        "    return classifier"
      ]
    },
    {
      "cell_type": "code",
      "execution_count": 5,
      "metadata": {
        "id": "I63-087a3sYp",
        "pycharm": {
          "name": "#%%\n"
        }
      },
      "outputs": [],
      "source": [
        "classifier = get_model()"
      ]
    },
    {
      "cell_type": "code",
      "execution_count": 6,
      "metadata": {
        "id": "bStrsh1B3sYq",
        "outputId": "2a65fa33-7ed9-48cb-c8de-0daf08403e64",
        "pycharm": {
          "name": "#%%\n"
        }
      },
      "outputs": [
        {
          "name": "stdout",
          "output_type": "stream",
          "text": [
            "Model: \"sequential\"\n",
            "_________________________________________________________________\n",
            " Layer (type)                Output Shape              Param #   \n",
            "=================================================================\n",
            " conv2d (Conv2D)             (None, 126, 126, 32)      896       \n",
            "                                                                 \n",
            " max_pooling2d (MaxPooling2D  (None, 63, 63, 32)       0         \n",
            " )                                                               \n",
            "                                                                 \n",
            " batch_normalization (BatchN  (None, 63, 63, 32)       128       \n",
            " ormalization)                                                   \n",
            "                                                                 \n",
            " activation (Activation)     (None, 63, 63, 32)        0         \n",
            "                                                                 \n",
            " conv2d_1 (Conv2D)           (None, 61, 61, 64)        18496     \n",
            "                                                                 \n",
            " max_pooling2d_1 (MaxPooling  (None, 30, 30, 64)       0         \n",
            " 2D)                                                             \n",
            "                                                                 \n",
            " batch_normalization_1 (Batc  (None, 30, 30, 64)       256       \n",
            " hNormalization)                                                 \n",
            "                                                                 \n",
            " activation_1 (Activation)   (None, 30, 30, 64)        0         \n",
            "                                                                 \n",
            " conv2d_2 (Conv2D)           (None, 28, 28, 128)       73856     \n",
            "                                                                 \n",
            " max_pooling2d_2 (MaxPooling  (None, 14, 14, 128)      0         \n",
            " 2D)                                                             \n",
            "                                                                 \n",
            " batch_normalization_2 (Batc  (None, 14, 14, 128)      512       \n",
            " hNormalization)                                                 \n",
            "                                                                 \n",
            " activation_2 (Activation)   (None, 14, 14, 128)       0         \n",
            "                                                                 \n",
            " conv2d_3 (Conv2D)           (None, 12, 12, 64)        73792     \n",
            "                                                                 \n",
            " max_pooling2d_3 (MaxPooling  (None, 6, 6, 64)         0         \n",
            " 2D)                                                             \n",
            "                                                                 \n",
            " batch_normalization_3 (Batc  (None, 6, 6, 64)         256       \n",
            " hNormalization)                                                 \n",
            "                                                                 \n",
            " activation_3 (Activation)   (None, 6, 6, 64)          0         \n",
            "                                                                 \n",
            " flatten (Flatten)           (None, 2304)              0         \n",
            "                                                                 \n",
            " dense (Dense)               (None, 128)               295040    \n",
            "                                                                 \n",
            " dropout (Dropout)           (None, 128)               0         \n",
            "                                                                 \n",
            " dense_1 (Dense)             (None, 64)                8256      \n",
            "                                                                 \n",
            " dropout_1 (Dropout)         (None, 64)                0         \n",
            "                                                                 \n",
            " dense_2 (Dense)             (None, 32)                2080      \n",
            "                                                                 \n",
            " dropout_2 (Dropout)         (None, 32)                0         \n",
            "                                                                 \n",
            " dense_3 (Dense)             (None, 16)                528       \n",
            "                                                                 \n",
            " dropout_3 (Dropout)         (None, 16)                0         \n",
            "                                                                 \n",
            " dense_4 (Dense)             (None, 1)                 17        \n",
            "                                                                 \n",
            "=================================================================\n",
            "Total params: 474,113\n",
            "Trainable params: 473,537\n",
            "Non-trainable params: 576\n",
            "_________________________________________________________________\n"
          ]
        }
      ],
      "source": [
        "classifier.summary()"
      ]
    },
    {
      "cell_type": "code",
      "execution_count": 7,
      "metadata": {
        "id": "GODD8A9U3sYr",
        "pycharm": {
          "name": "#%%\n"
        }
      },
      "outputs": [],
      "source": [
        "# Part 2 - Read and pre-preocess images\n",
        "train_datagen = ImageDataGenerator(\n",
        "    rescale= 1./255,\n",
        "    shear_range= 0.2,\n",
        "    zoom_range= 0.2,\n",
        "    horizontal_flip = True\n",
        ")\n",
        "\n",
        "test_datagen = ImageDataGenerator(rescale= 1./255)"
      ]
    },
    {
      "cell_type": "code",
      "execution_count": 8,
      "metadata": {
        "id": "SrtKSAA-3sYs",
        "outputId": "d1726761-1821-47f6-adb6-6bd1af7d30f1",
        "pycharm": {
          "name": "#%%\n"
        }
      },
      "outputs": [
        {
          "name": "stdout",
          "output_type": "stream",
          "text": [
            "Found 8048 images belonging to 2 classes.\n",
            "Found 1637 images belonging to 2 classes.\n"
          ]
        }
      ],
      "source": [
        "training_set = train_datagen.flow_from_directory(\n",
        "    r'D:\\Code\\Project-ML\\Image_Classification\\Dataset\\train',\n",
        "    target_size= (128, 128),\n",
        "    batch_size = 32,\n",
        "    class_mode = 'binary'\n",
        ")\n",
        "\n",
        "test_set = test_datagen.flow_from_directory(\n",
        "    r'D:\\Code\\Project-ML\\Image_Classification\\Dataset\\test',\n",
        "    target_size= (128, 128),\n",
        "    batch_size = 32,\n",
        "    class_mode = 'binary'\n",
        ")"
      ]
    },
    {
      "cell_type": "code",
      "execution_count": 9,
      "metadata": {
        "id": "x2lZkmt03sYu",
        "pycharm": {
          "name": "#%%\n"
        }
      },
      "outputs": [],
      "source": [
        "# Part 3 - Fit the CNN to the images\n",
        "callbacks = [ModelCheckpoint(r'D:\\Code\\Project-ML\\Image_Classification\\Save_Model_h5\\model_checkpoint_CNN.h5', save_best_only= True, save_weights_only=True, mode='auto', verbose=1, monitor='val_loss')]"
      ]
    },
    {
      "cell_type": "code",
      "execution_count": 10,
      "metadata": {},
      "outputs": [
        {
          "name": "stdout",
          "output_type": "stream",
          "text": [
            "2023-04-25 04:17:50.296518\n"
          ]
        }
      ],
      "source": [
        "t0= datetime.now()\n",
        "print(t0)"
      ]
    },
    {
      "cell_type": "code",
      "execution_count": 11,
      "metadata": {
        "id": "eHYBFj1a3sYu",
        "outputId": "8fcb2fcc-d672-4cf7-9cbd-c91065d0032d",
        "pycharm": {
          "name": "#%%\n"
        }
      },
      "outputs": [
        {
          "name": "stdout",
          "output_type": "stream",
          "text": [
            "Epoch 1/30\n",
            "252/252 [==============================] - ETA: 0s - loss: 0.4712 - accuracy: 0.7797\n",
            "Epoch 1: val_loss improved from inf to 0.41194, saving model to model_checkpoint_CNN.h5\n",
            "252/252 [==============================] - 206s 774ms/step - loss: 0.4712 - accuracy: 0.7797 - val_loss: 0.4119 - val_accuracy: 0.7929\n",
            "Epoch 2/30\n",
            "252/252 [==============================] - ETA: 0s - loss: 0.3440 - accuracy: 0.8569\n",
            "Epoch 2: val_loss improved from 0.41194 to 0.21205, saving model to model_checkpoint_CNN.h5\n",
            "252/252 [==============================] - 73s 289ms/step - loss: 0.3440 - accuracy: 0.8569 - val_loss: 0.2120 - val_accuracy: 0.9029\n",
            "Epoch 3/30\n",
            "252/252 [==============================] - ETA: 0s - loss: 0.2986 - accuracy: 0.8781\n",
            "Epoch 3: val_loss did not improve from 0.21205\n",
            "252/252 [==============================] - 71s 280ms/step - loss: 0.2986 - accuracy: 0.8781 - val_loss: 0.2394 - val_accuracy: 0.9071\n",
            "Epoch 4/30\n",
            "252/252 [==============================] - ETA: 0s - loss: 0.2735 - accuracy: 0.8894\n",
            "Epoch 4: val_loss did not improve from 0.21205\n",
            "252/252 [==============================] - 72s 286ms/step - loss: 0.2735 - accuracy: 0.8894 - val_loss: 0.2181 - val_accuracy: 0.9071\n",
            "Epoch 5/30\n",
            "252/252 [==============================] - ETA: 0s - loss: 0.2359 - accuracy: 0.9076\n",
            "Epoch 5: val_loss did not improve from 0.21205\n",
            "252/252 [==============================] - 75s 297ms/step - loss: 0.2359 - accuracy: 0.9076 - val_loss: 0.2679 - val_accuracy: 0.8845\n",
            "Epoch 6/30\n",
            "252/252 [==============================] - ETA: 0s - loss: 0.2248 - accuracy: 0.9122\n",
            "Epoch 6: val_loss improved from 0.21205 to 0.16982, saving model to model_checkpoint_CNN.h5\n",
            "252/252 [==============================] - 69s 273ms/step - loss: 0.2248 - accuracy: 0.9122 - val_loss: 0.1698 - val_accuracy: 0.9316\n",
            "Epoch 7/30\n",
            "252/252 [==============================] - ETA: 0s - loss: 0.2149 - accuracy: 0.9139\n",
            "Epoch 7: val_loss did not improve from 0.16982\n",
            "252/252 [==============================] - 71s 282ms/step - loss: 0.2149 - accuracy: 0.9139 - val_loss: 0.2180 - val_accuracy: 0.9065\n",
            "Epoch 8/30\n",
            "252/252 [==============================] - ETA: 0s - loss: 0.1986 - accuracy: 0.9221\n",
            "Epoch 8: val_loss did not improve from 0.16982\n",
            "252/252 [==============================] - 70s 279ms/step - loss: 0.1986 - accuracy: 0.9221 - val_loss: 0.1716 - val_accuracy: 0.9322\n",
            "Epoch 9/30\n",
            "252/252 [==============================] - ETA: 0s - loss: 0.1806 - accuracy: 0.9276\n",
            "Epoch 9: val_loss did not improve from 0.16982\n",
            "252/252 [==============================] - 70s 278ms/step - loss: 0.1806 - accuracy: 0.9276 - val_loss: 0.1992 - val_accuracy: 0.9261\n",
            "Epoch 10/30\n",
            "252/252 [==============================] - ETA: 0s - loss: 0.1732 - accuracy: 0.9328\n",
            "Epoch 10: val_loss did not improve from 0.16982\n",
            "252/252 [==============================] - 74s 290ms/step - loss: 0.1732 - accuracy: 0.9328 - val_loss: 0.5253 - val_accuracy: 0.8687\n",
            "Epoch 11/30\n",
            "252/252 [==============================] - ETA: 0s - loss: 0.1750 - accuracy: 0.9346\n",
            "Epoch 11: val_loss improved from 0.16982 to 0.13531, saving model to model_checkpoint_CNN.h5\n",
            "252/252 [==============================] - 107s 426ms/step - loss: 0.1750 - accuracy: 0.9346 - val_loss: 0.1353 - val_accuracy: 0.9493\n",
            "Epoch 12/30\n",
            "252/252 [==============================] - ETA: 0s - loss: 0.1627 - accuracy: 0.9416\n",
            "Epoch 12: val_loss did not improve from 0.13531\n",
            "252/252 [==============================] - 86s 342ms/step - loss: 0.1627 - accuracy: 0.9416 - val_loss: 0.4475 - val_accuracy: 0.8430\n",
            "Epoch 13/30\n",
            "252/252 [==============================] - ETA: 0s - loss: 0.1612 - accuracy: 0.9376\n",
            "Epoch 13: val_loss did not improve from 0.13531\n",
            "252/252 [==============================] - 71s 281ms/step - loss: 0.1612 - accuracy: 0.9376 - val_loss: 0.1513 - val_accuracy: 0.9407\n",
            "Epoch 14/30\n",
            "252/252 [==============================] - ETA: 0s - loss: 0.1436 - accuracy: 0.9463\n",
            "Epoch 14: val_loss improved from 0.13531 to 0.12794, saving model to model_checkpoint_CNN.h5\n",
            "252/252 [==============================] - 70s 277ms/step - loss: 0.1436 - accuracy: 0.9463 - val_loss: 0.1279 - val_accuracy: 0.9499\n",
            "Epoch 15/30\n",
            "252/252 [==============================] - ETA: 0s - loss: 0.1480 - accuracy: 0.9440\n",
            "Epoch 15: val_loss did not improve from 0.12794\n",
            "252/252 [==============================] - 70s 275ms/step - loss: 0.1480 - accuracy: 0.9440 - val_loss: 0.2334 - val_accuracy: 0.9139\n",
            "Epoch 16/30\n",
            "252/252 [==============================] - ETA: 0s - loss: 0.1333 - accuracy: 0.9504\n",
            "Epoch 16: val_loss improved from 0.12794 to 0.12488, saving model to model_checkpoint_CNN.h5\n",
            "252/252 [==============================] - 70s 279ms/step - loss: 0.1333 - accuracy: 0.9504 - val_loss: 0.1249 - val_accuracy: 0.9554\n",
            "Epoch 17/30\n",
            "252/252 [==============================] - ETA: 0s - loss: 0.1247 - accuracy: 0.9545\n",
            "Epoch 17: val_loss did not improve from 0.12488\n",
            "252/252 [==============================] - 69s 274ms/step - loss: 0.1247 - accuracy: 0.9545 - val_loss: 0.2297 - val_accuracy: 0.9114\n",
            "Epoch 18/30\n",
            "252/252 [==============================] - ETA: 0s - loss: 0.1304 - accuracy: 0.9513\n",
            "Epoch 18: val_loss did not improve from 0.12488\n",
            "252/252 [==============================] - 69s 272ms/step - loss: 0.1304 - accuracy: 0.9513 - val_loss: 0.1328 - val_accuracy: 0.9524\n",
            "Epoch 19/30\n",
            "252/252 [==============================] - ETA: 0s - loss: 0.1162 - accuracy: 0.9594\n",
            "Epoch 19: val_loss did not improve from 0.12488\n",
            "252/252 [==============================] - 69s 274ms/step - loss: 0.1162 - accuracy: 0.9594 - val_loss: 0.1982 - val_accuracy: 0.9365\n",
            "Epoch 20/30\n",
            "252/252 [==============================] - ETA: 0s - loss: 0.1258 - accuracy: 0.9530\n",
            "Epoch 20: val_loss did not improve from 0.12488\n",
            "252/252 [==============================] - 73s 288ms/step - loss: 0.1258 - accuracy: 0.9530 - val_loss: 0.1478 - val_accuracy: 0.9481\n",
            "Epoch 21/30\n",
            "252/252 [==============================] - ETA: 0s - loss: 0.1143 - accuracy: 0.9584\n",
            "Epoch 21: val_loss did not improve from 0.12488\n",
            "252/252 [==============================] - 68s 271ms/step - loss: 0.1143 - accuracy: 0.9584 - val_loss: 0.1948 - val_accuracy: 0.9163\n",
            "Epoch 22/30\n",
            "252/252 [==============================] - ETA: 0s - loss: 0.0985 - accuracy: 0.9660\n",
            "Epoch 22: val_loss did not improve from 0.12488\n",
            "252/252 [==============================] - 82s 323ms/step - loss: 0.0985 - accuracy: 0.9660 - val_loss: 0.1823 - val_accuracy: 0.9438\n",
            "Epoch 23/30\n",
            "252/252 [==============================] - ETA: 0s - loss: 0.1114 - accuracy: 0.9594\n",
            "Epoch 23: val_loss did not improve from 0.12488\n",
            "252/252 [==============================] - 106s 419ms/step - loss: 0.1114 - accuracy: 0.9594 - val_loss: 0.1825 - val_accuracy: 0.9316\n",
            "Epoch 24/30\n",
            "252/252 [==============================] - ETA: 0s - loss: 0.0980 - accuracy: 0.9627\n",
            "Epoch 24: val_loss did not improve from 0.12488\n",
            "252/252 [==============================] - 71s 281ms/step - loss: 0.0980 - accuracy: 0.9627 - val_loss: 0.2450 - val_accuracy: 0.9059\n",
            "Epoch 25/30\n",
            "252/252 [==============================] - ETA: 0s - loss: 0.0980 - accuracy: 0.9645\n",
            "Epoch 25: val_loss did not improve from 0.12488\n",
            "252/252 [==============================] - 72s 288ms/step - loss: 0.0980 - accuracy: 0.9645 - val_loss: 0.1607 - val_accuracy: 0.9365\n",
            "Epoch 26/30\n",
            "252/252 [==============================] - ETA: 0s - loss: 0.0848 - accuracy: 0.9686\n",
            "Epoch 26: val_loss did not improve from 0.12488\n",
            "252/252 [==============================] - 70s 278ms/step - loss: 0.0848 - accuracy: 0.9686 - val_loss: 0.2016 - val_accuracy: 0.9511\n",
            "Epoch 27/30\n",
            "252/252 [==============================] - ETA: 0s - loss: 0.0911 - accuracy: 0.9636\n",
            "Epoch 27: val_loss did not improve from 0.12488\n",
            "252/252 [==============================] - 67s 267ms/step - loss: 0.0911 - accuracy: 0.9636 - val_loss: 0.1766 - val_accuracy: 0.9371\n",
            "Epoch 28/30\n",
            "252/252 [==============================] - ETA: 0s - loss: 0.0869 - accuracy: 0.9676\n",
            "Epoch 28: val_loss did not improve from 0.12488\n",
            "252/252 [==============================] - 70s 278ms/step - loss: 0.0869 - accuracy: 0.9676 - val_loss: 0.1772 - val_accuracy: 0.9536\n",
            "Epoch 29/30\n",
            "252/252 [==============================] - ETA: 0s - loss: 0.0728 - accuracy: 0.9718\n",
            "Epoch 29: val_loss did not improve from 0.12488\n",
            "252/252 [==============================] - 69s 274ms/step - loss: 0.0728 - accuracy: 0.9718 - val_loss: 0.1451 - val_accuracy: 0.9536\n",
            "Epoch 30/30\n",
            "252/252 [==============================] - ETA: 0s - loss: 0.0753 - accuracy: 0.9712\n",
            "Epoch 30: val_loss did not improve from 0.12488\n",
            "252/252 [==============================] - 69s 273ms/step - loss: 0.0753 - accuracy: 0.9712 - val_loss: 0.2922 - val_accuracy: 0.9297\n"
          ]
        }
      ],
      "source": [
        "history = classifier.fit(training_set,\n",
        "                         epochs= 30,\n",
        "                         validation_data= test_set,\n",
        "                         callbacks= callbacks\n",
        "                         )"
      ]
    },
    {
      "cell_type": "code",
      "execution_count": 12,
      "metadata": {},
      "outputs": [
        {
          "name": "stdout",
          "output_type": "stream",
          "text": [
            "0:39:13.062258\n"
          ]
        }
      ],
      "source": [
        "t1= datetime.now()\n",
        "time_run= t1-t0\n",
        "print(time_run)"
      ]
    },
    {
      "cell_type": "code",
      "execution_count": 13,
      "metadata": {
        "id": "kY4KfhR23sYw",
        "pycharm": {
          "name": "#%%\n"
        }
      },
      "outputs": [],
      "source": [
        "history_frame = pd.DataFrame(history.history)"
      ]
    },
    {
      "cell_type": "code",
      "execution_count": 16,
      "metadata": {
        "id": "vWPjAXwK3sYw",
        "outputId": "88d338b9-87df-4d18-b1d3-155ad1a64780",
        "pycharm": {
          "name": "#%%\n"
        }
      },
      "outputs": [
        {
          "data": {
            "text/plain": [
              "<Axes: >"
            ]
          },
          "execution_count": 16,
          "metadata": {},
          "output_type": "execute_result"
        },
        {
          "data": {
            "image/png": "[encoded data removed]",
            "text/plain": [
              "<Figure size 640x480 with 1 Axes>"
            ]
          },
          "metadata": {},
          "output_type": "display_data"
        },
        {
          "data": {
            "image/png": "[encoded data removed]",
            "text/plain": [
              "<Figure size 640x480 with 1 Axes>"
            ]
          },
          "metadata": {},
          "output_type": "display_data"
        }
      ],
      "source": [
        "history_frame.loc[:, ['loss', 'val_loss']].plot()\n",
        "history_frame.loc[:, ['accuracy', 'val_accuracy']].plot()"
      ]
    },
    {
      "cell_type": "markdown",
      "metadata": {
        "collapsed": false,
        "id": "JeuYQd7j3sYx",
        "pycharm": {
          "name": "#%% md\n"
        }
      },
      "source": [
        "#### Nhận xét:\n",
        "- Model đạt valid_accuracy tốt ~ 95.48%, có model_checkpoint tốt nhất đc valid_accuracy ~ 95.85%\n",
        "- Muốn model được kết quả tốt hơn thì cần phát triển thêm dataset và xây dựng model phù hợp hơn"
      ]
    },
    {
      "cell_type": "code",
      "execution_count": 17,
      "metadata": {
        "id": "UcplasDp3sYz",
        "pycharm": {
          "name": "#%%\n"
        }
      },
      "outputs": [],
      "source": [
        "from tensorflow.keras.utils import plot_model\n",
        "from IPython.display import Image"
      ]
    },
    {
      "cell_type": "code",
      "execution_count": 18,
      "metadata": {
        "id": "SgtbgpWG3sY0",
        "outputId": "fbe68737-e568-4e34-8711-06492e64186a",
        "pycharm": {
          "name": "#%%\n"
        }
      },
      "outputs": [
        {
          "name": "stdout",
          "output_type": "stream",
          "text": [
            "Saved\n"
          ]
        }
      ],
      "source": [
        "classifier.save(r'D:\\Code\\Project-ML\\Image_Classification\\Save_Model_h5\\CNN.h5')\n",
        "print('Saved')"
      ]
    },
    {
      "cell_type": "code",
      "execution_count": 19,
      "metadata": {
        "id": "GEMuGc1U3sY0",
        "pycharm": {
          "name": "#%%\n"
        }
      },
      "outputs": [],
      "source": [
        "classifier = load_model(r'D:\\Code\\Project-ML\\Image_Classification\\Save_Model_h5\\CNN.h5')"
      ]
    },
    {
      "cell_type": "code",
      "execution_count": 21,
      "metadata": {
        "id": "-SCVeGs33sY8",
        "pycharm": {
          "name": "#%%\n"
        }
      },
      "outputs": [
        {
          "name": "stdout",
          "output_type": "stream",
          "text": [
            "252/252 [==============================] - 65s 255ms/step - loss: 0.1573 - accuracy: 0.9524\n",
            "52/52 [==============================] - 7s 129ms/step - loss: 0.2922 - accuracy: 0.9297\n",
            "Train Accuracy: 0.9524 ; Train loss: 0.1573\n",
            "Test Accuracy: 0.9297 ; Test loss: 0.2922\n"
          ]
        }
      ],
      "source": [
        "train_evaluation= classifier.evaluate(training_set)\n",
        "test_evaluation= classifier.evaluate(test_set)\n",
        "print('Train Accuracy:', round(train_evaluation[1], 4), \n",
        "        '; Train loss:', round(train_evaluation[0], 4))\n",
        "print('Test Accuracy:', round(test_evaluation[1], 4), \n",
        "        '; Test loss:', round(test_evaluation[0], 4))"
      ]
    },
    {
      "cell_type": "code",
      "execution_count": 22,
      "metadata": {},
      "outputs": [],
      "source": [
        "import numpy as np\n",
        "from tensorflow.keras.preprocessing import image"
      ]
    },
    {
      "cell_type": "code",
      "execution_count": 23,
      "metadata": {},
      "outputs": [],
      "source": [
        "def result(test_image):\n",
        "    test_image = image.img_to_array(test_image)\n",
        "    # print(test_image.shape)\n",
        "    test_image = test_image/255\n",
        "    test_image = np.expand_dims(test_image, axis= 0)\n",
        "    # print(test_image.shape)\n",
        "\n",
        "    result = classifier.predict(test_image)\n",
        "    # print(result)\n",
        "\n",
        "    # 0 la glass, 1 la plastic, nguong sigmoid = 0.5\n",
        "    if result[0][0] >= 0.5:\n",
        "        prediction = 'PlasticWaste'\n",
        "    else:\n",
        "        prediction = 'Fish'\n",
        "    return prediction"
      ]
    },
    {
      "cell_type": "code",
      "execution_count": 24,
      "metadata": {},
      "outputs": [
        {
          "name": "stdout",
          "output_type": "stream",
          "text": [
            "52/52 [==============================] - 7s 131ms/step - loss: 0.1249 - accuracy: 0.9554\n",
            "Test Accuracy: 0.9554 ; Test loss: 0.1249\n"
          ]
        }
      ],
      "source": [
        "classifier.load_weights('model_checkpoint_CNN.h5')\n",
        "test_evaluation= classifier.evaluate(test_set)\n",
        "print('Test Accuracy:', round(test_evaluation[1], 4), \n",
        "        '; Test loss:', round(test_evaluation[0], 4))"
      ]
    },
    {
      "cell_type": "code",
      "execution_count": 25,
      "metadata": {},
      "outputs": [],
      "source": [
        "import os \n",
        "predict_path= r'D:\\Code\\Project-ML\\Image_Classification\\Dataset\\single_prediction\\\\'\n",
        "list_image= os.listdir(predict_path)"
      ]
    },
    {
      "cell_type": "code",
      "execution_count": 26,
      "metadata": {},
      "outputs": [],
      "source": [
        "df= pd.DataFrame(columns=['name_file', 'truth', 'predict'])\n",
        "name_file=[]\n",
        "truth=[]\n",
        "predict=[]"
      ]
    },
    {
      "cell_type": "code",
      "execution_count": 27,
      "metadata": {},
      "outputs": [],
      "source": [
        "for i in range(len(list_image)):\n",
        "    path= predict_path + list_image[i]\n",
        "    test_img= image.load_img(path, target_size=[128, 128])\n",
        "    name_file.append(list_image[i])\n",
        "    truth.append(list_image[i].split('_')[0])\n",
        "    predict.append(result(test_img))\n",
        "\n",
        "df['name_file']= name_file\n",
        "df['truth']= truth\n",
        "df['predict']= predict\n",
        "df.to_csv(r'D:\\Code\\Project-ML\\Computer_Vision\\CNN\\prediction_fish_and_plasticwaste.csv')"
      ]
    },
    {
      "cell_type": "code",
      "execution_count": 28,
      "metadata": {},
      "outputs": [
        {
          "data": {
            "text/html": [
              "<div>\n",
              "<style scoped>\n",
              "    .dataframe tbody tr th:only-of-type {\n",
              "        vertical-align: middle;\n",
              "    }\n",
              "\n",
              "    .dataframe tbody tr th {\n",
              "        vertical-align: top;\n",
              "    }\n",
              "\n",
              "    .dataframe thead th {\n",
              "        text-align: right;\n",
              "    }\n",
              "</style>\n",
              "<table border=\"1\" class=\"dataframe\">\n",
              "  <thead>\n",
              "    <tr style=\"text-align: right;\">\n",
              "      <th></th>\n",
              "      <th>name_file</th>\n",
              "      <th>truth</th>\n",
              "      <th>predict</th>\n",
              "    </tr>\n",
              "  </thead>\n",
              "  <tbody>\n",
              "    <tr>\n",
              "      <th>0</th>\n",
              "      <td>Fish_1.jpg</td>\n",
              "      <td>Fish</td>\n",
              "      <td>Fish</td>\n",
              "    </tr>\n",
              "    <tr>\n",
              "      <th>1</th>\n",
              "      <td>Fish_10.jpg</td>\n",
              "      <td>Fish</td>\n",
              "      <td>Fish</td>\n",
              "    </tr>\n",
              "    <tr>\n",
              "      <th>2</th>\n",
              "      <td>Fish_11.jpg</td>\n",
              "      <td>Fish</td>\n",
              "      <td>Fish</td>\n",
              "    </tr>\n",
              "    <tr>\n",
              "      <th>3</th>\n",
              "      <td>Fish_12.jpg</td>\n",
              "      <td>Fish</td>\n",
              "      <td>Fish</td>\n",
              "    </tr>\n",
              "    <tr>\n",
              "      <th>4</th>\n",
              "      <td>Fish_13.jpg</td>\n",
              "      <td>Fish</td>\n",
              "      <td>Fish</td>\n",
              "    </tr>\n",
              "    <tr>\n",
              "      <th>...</th>\n",
              "      <td>...</td>\n",
              "      <td>...</td>\n",
              "      <td>...</td>\n",
              "    </tr>\n",
              "    <tr>\n",
              "      <th>95</th>\n",
              "      <td>PlasticWaste_50_DB.jpg</td>\n",
              "      <td>PlasticWaste</td>\n",
              "      <td>PlasticWaste</td>\n",
              "    </tr>\n",
              "    <tr>\n",
              "      <th>96</th>\n",
              "      <td>PlasticWaste_6_DB.jpg</td>\n",
              "      <td>PlasticWaste</td>\n",
              "      <td>Fish</td>\n",
              "    </tr>\n",
              "    <tr>\n",
              "      <th>97</th>\n",
              "      <td>PlasticWaste_7.jpg</td>\n",
              "      <td>PlasticWaste</td>\n",
              "      <td>PlasticWaste</td>\n",
              "    </tr>\n",
              "    <tr>\n",
              "      <th>98</th>\n",
              "      <td>PlasticWaste_8.jpg</td>\n",
              "      <td>PlasticWaste</td>\n",
              "      <td>PlasticWaste</td>\n",
              "    </tr>\n",
              "    <tr>\n",
              "      <th>99</th>\n",
              "      <td>PlasticWaste_9.jpg</td>\n",
              "      <td>PlasticWaste</td>\n",
              "      <td>PlasticWaste</td>\n",
              "    </tr>\n",
              "  </tbody>\n",
              "</table>\n",
              "<p>100 rows × 3 columns</p>\n",
              "</div>"
            ],
            "text/plain": [
              "                 name_file         truth       predict\n",
              "0               Fish_1.jpg          Fish          Fish\n",
              "1              Fish_10.jpg          Fish          Fish\n",
              "2              Fish_11.jpg          Fish          Fish\n",
              "3              Fish_12.jpg          Fish          Fish\n",
              "4              Fish_13.jpg          Fish          Fish\n",
              "..                     ...           ...           ...\n",
              "95  PlasticWaste_50_DB.jpg  PlasticWaste  PlasticWaste\n",
              "96   PlasticWaste_6_DB.jpg  PlasticWaste          Fish\n",
              "97      PlasticWaste_7.jpg  PlasticWaste  PlasticWaste\n",
              "98      PlasticWaste_8.jpg  PlasticWaste  PlasticWaste\n",
              "99      PlasticWaste_9.jpg  PlasticWaste  PlasticWaste\n",
              "\n",
              "[100 rows x 3 columns]"
            ]
          },
          "execution_count": 28,
          "metadata": {},
          "output_type": "execute_result"
        }
      ],
      "source": [
        "df"
      ]
    },
    {
      "cell_type": "code",
      "execution_count": 29,
      "metadata": {},
      "outputs": [],
      "source": [
        "from sklearn.metrics import confusion_matrix, classification_report, f1_score"
      ]
    },
    {
      "cell_type": "code",
      "execution_count": 30,
      "metadata": {},
      "outputs": [
        {
          "data": {
            "text/plain": [
              "array([[50,  0],\n",
              "       [ 7, 43]], dtype=int64)"
            ]
          },
          "execution_count": 30,
          "metadata": {},
          "output_type": "execute_result"
        }
      ],
      "source": [
        "confusion_matrix(df['truth'], df['predict'])"
      ]
    },
    {
      "cell_type": "code",
      "execution_count": 31,
      "metadata": {},
      "outputs": [
        {
          "name": "stdout",
          "output_type": "stream",
          "text": [
            "              precision    recall  f1-score   support\n",
            "\n",
            "        Fish       0.88      1.00      0.93        50\n",
            "PlasticWaste       1.00      0.86      0.92        50\n",
            "\n",
            "    accuracy                           0.93       100\n",
            "   macro avg       0.94      0.93      0.93       100\n",
            "weighted avg       0.94      0.93      0.93       100\n",
            "\n"
          ]
        }
      ],
      "source": [
        "print(classification_report(df['truth'], df['predict']))"
      ]
    },
    {
      "cell_type": "code",
      "execution_count": null,
      "metadata": {},
      "outputs": [],
      "source": []
    }
  ],
  "metadata": {
    "colab": {
      "provenance": []
    },
    "kernelspec": {
      "display_name": "Python 3.8.5 ('project')",
      "language": "python",
      "name": "python3"
    },
    "language_info": {
      "codemirror_mode": {
        "name": "ipython",
        "version": 3
      },
      "file_extension": ".py",
      "mimetype": "text/x-python",
      "name": "python",
      "nbconvert_exporter": "python",
      "pygments_lexer": "ipython3",
      "version": "3.9.12"
    },
    "vscode": {
      "interpreter": {
        "hash": "b33db057fe5fada1a17af1715e737bb93d4895f680007deadb2f712e8f58e0b1"
      }
    }
  },
  "nbformat": 4,
  "nbformat_minor": 0
}
